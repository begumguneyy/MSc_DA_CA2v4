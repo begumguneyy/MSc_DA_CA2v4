{
 "cells": [
  {
   "cell_type": "code",
   "execution_count": null,
   "metadata": {
    "colab": {
     "base_uri": "https://localhost:8080/"
    },
    "id": "wpTXlFKREUW5",
    "outputId": "d4ed30a3-eea8-4c98-ff9b-fa3951d07db5"
   },
   "outputs": [],
   "source": [
    "%%time\n",
    "'''In google colab'''\n",
    "#Update local version of the package catalog t enable installation of related packages.\n",
    "!apt update\n",
    "# install Java8\n",
    "!apt-get install openjdk-8-jdk-headless -qq > /dev/null\n",
    "# download spark 3.2.1\n",
    "!wget -q https://apache.osuosl.org/spark/spark-3.2.4/spark-3.2.4-bin-hadoop3.2.tgz\n",
    "# unzip spark files\n",
    "!tar xf spark-3.2.4-bin-hadoop3.2.tgz\n",
    "# install findspark \n",
    "!pip install -q findspark\n",
    "\n",
    "import os\n",
    "os.environ[\"JAVA_HOME\"] = \"/usr/lib/jvm/java-8-openjdk-amd64\"\n",
    "os.environ[\"SPARK_HOME\"] = \"/content/spark-3.2.4-bin-hadoop3.2\"\n",
    "\n",
    "import findspark \n",
    "findspark.init() "
   ]
  },
  {
   "cell_type": "code",
   "execution_count": null,
   "metadata": {
    "id": "Eg-0fbOrs7TR"
   },
   "outputs": [],
   "source": [
    "import pyspark\n",
    "from pyspark.sql import SparkSession\n",
    "from pyspark.sql.functions import udf\n",
    "from pyspark.sql.types import *\n",
    "# Set up PySpark session\n",
    "spark = SparkSession.builder.appName(\"Big Data Analytics\").getOrCreate()"
   ]
  },
  {
   "cell_type": "code",
   "execution_count": 8,
   "metadata": {
    "id": "jKIVnmFg4yh1"
   },
   "outputs": [
    {
     "name": "stderr",
     "output_type": "stream",
     "text": [
      "c:\\users\\monga\\appdata\\local\\programs\\python\\python38\\lib\\site-packages\\numpy\\_distributor_init.py:30: UserWarning: loaded more than 1 DLL from .libs:\n",
      "c:\\users\\monga\\appdata\\local\\programs\\python\\python38\\lib\\site-packages\\numpy\\.libs\\libopenblas.GK7GX5KEQ4F6UYO3P26ULGBQYHGQO7J4.gfortran-win_amd64.dll\n",
      "c:\\users\\monga\\appdata\\local\\programs\\python\\python38\\lib\\site-packages\\numpy\\.libs\\libopenblas.PYQHXLVVQ7VESDPUVUADXEVJOBGHJPAY.gfortran-win_amd64.dll\n",
      "c:\\users\\monga\\appdata\\local\\programs\\python\\python38\\lib\\site-packages\\numpy\\.libs\\libopenblas.XWYDX2IKJW2NMTWSFYNGFUWKQU3LYTCZ.gfortran-win_amd64.dll\n",
      "  warnings.warn(\"loaded more than 1 DLL from .libs:\"\n"
     ]
    }
   ],
   "source": [
    "import tweepy\n",
    "import datetime\n",
    "import pandas as pd\n",
    "import sys\n",
    "\n",
    "# credentials from https://apps.twitter.com/\n",
    "\n",
    "consumer_key = \"meyT3EhfyNfwQAANiSIIwj3Pp\"\n",
    "consumer_secret = \"5OG1PdhayFAUGGGsajMwbi5xImKLLTk0m0yiAAU2MiVMUxHkjP\"\n",
    "access_token = \"818345262221590528-2eMomHsHRBjzPYZvPF5Lo4zUSrAug33\"\n",
    "access_token_secret = \"rXNEDYEHudCrx9N1IwMwJ2o0c0hVYFcdDocz4yQgq7G6k\"\n",
    "\n",
    "auth = tweepy.OAuthHandler(consumer_key, consumer_secret)\n",
    "auth.set_access_token(access_token, access_token_secret)\n",
    "\n",
    "api = tweepy.API(auth)\n",
    "\n",
    "# Retrieve tweets\n",
    "keywords = [\"AI\", \"Artificial Intelligence\", \"artificialintelligence\"]\n",
    "def download_tweets(search_query, num_tweets):\n",
    "    # Initialize list to store downloaded tweets\n",
    "    tweets = []\n",
    "\n",
    "    # Download tweets using Twitter API search\n",
    "    api = tweepy.API(auth, wait_on_rate_limit=True)\n",
    "    for tweet in tweepy.Cursor(api.search_tweets, q=search_query, lang=\"en\", tweet_mode=\"extended\").items(num_tweets):\n",
    "        #print(tweet)\n",
    "        tweets.append(tweet._json)\n",
    "\n",
    "    return pd.DataFrame(tweets)\n",
    "tweets = download_tweets(keywords[1], 8000)"
   ]
  },
  {
   "cell_type": "code",
   "execution_count": 160,
   "metadata": {
    "colab": {
     "base_uri": "https://localhost:8080/",
     "height": 363
    },
    "id": "eZ_c4b6oVo9Y",
    "outputId": "54bcf11f-2de6-48df-baa6-132e431e725c"
   },
   "outputs": [
    {
     "name": "stdout",
     "output_type": "stream",
     "text": [
      "Looking in indexes: https://pypi.org/simple, https://us-python.pkg.dev/colab-wheels/public/simple/\n",
      "Requirement already satisfied: sqlalchemy in /usr/local/lib/python3.10/dist-packages (1.4.48)\n",
      "Collecting sqlalchemy\n",
      "  Downloading SQLAlchemy-2.0.13-cp310-cp310-manylinux_2_17_x86_64.manylinux2014_x86_64.whl (2.7 MB)\n",
      "\u001b[2K     \u001b[90m━━━━━━━━━━━━━━━━━━━━━━━━━━━━━━━━━━━━━━━━\u001b[0m \u001b[32m2.7/2.7 MB\u001b[0m \u001b[31m21.6 MB/s\u001b[0m eta \u001b[36m0:00:00\u001b[0m\n",
      "\u001b[?25hRequirement already satisfied: typing-extensions>=4.2.0 in /usr/local/lib/python3.10/dist-packages (from sqlalchemy) (4.5.0)\n",
      "Requirement already satisfied: greenlet!=0.4.17 in /usr/local/lib/python3.10/dist-packages (from sqlalchemy) (2.0.2)\n",
      "Installing collected packages: sqlalchemy\n",
      "  Attempting uninstall: sqlalchemy\n",
      "    Found existing installation: SQLAlchemy 1.4.48\n",
      "    Uninstalling SQLAlchemy-1.4.48:\n",
      "      Successfully uninstalled SQLAlchemy-1.4.48\n",
      "\u001b[31mERROR: pip's dependency resolver does not currently take into account all the packages that are installed. This behaviour is the source of the following dependency conflicts.\n",
      "databases 0.7.0 requires sqlalchemy<1.5,>=1.4.42, but you have sqlalchemy 2.0.13 which is incompatible.\u001b[0m\u001b[31m\n",
      "\u001b[0mSuccessfully installed sqlalchemy-2.0.13\n"
     ]
    },
    {
     "data": {
      "application/vnd.colab-display-data+json": {
       "pip_warning": {
        "packages": [
         "sqlalchemy"
        ]
       }
      }
     },
     "metadata": {},
     "output_type": "display_data"
    }
   ],
   "source": [
    "#pip install --upgrade sqlalchemy"
   ]
  },
  {
   "cell_type": "code",
   "execution_count": 163,
   "metadata": {
    "id": "48JWwJ4aVOj4"
   },
   "outputs": [],
   "source": [
    "from sqlalchemy import create_engine\n",
    "# create a database connection\n",
    "engine = create_engine('sqlite:///ArtificialIntelligenceTweets.db')\n",
    "# write the DataFrame to a SQL database\n",
    "tweets[['created_at',  'full_text',  'retweet_count', 'favorite_count',\n",
    "       'favorited']].to_sql('AITwitterData', con=engine, index = False)"
   ]
  },
  {
   "cell_type": "code",
   "execution_count": null,
   "metadata": {
    "id": "dVMn8iL5RpX1"
   },
   "outputs": [],
   "source": [
    "data = pd.read_sql('AITwitterData', con  = engine)"
   ]
  },
  {
   "cell_type": "code",
   "execution_count": 218,
   "metadata": {
    "id": "sXVg90ilaLw-"
   },
   "outputs": [],
   "source": [
    "from pyspark.sql.functions import explode, col, when\n",
    "hashtags_df = df.select(explode(col(\"entities\")),\n",
    "                        when(col(\"entities\").isNotNull(), 1).otherwise(0).alias(\"hashtag_present\"))"
   ]
  },
  {
   "cell_type": "code",
   "execution_count": 210,
   "metadata": {
    "colab": {
     "base_uri": "https://localhost:8080/"
    },
    "id": "X5ywE8to6M-N",
    "outputId": "95721448-91d7-407d-8e10-6b808ba5bfb5"
   },
   "outputs": [
    {
     "name": "stderr",
     "output_type": "stream",
     "text": [
      "/content/spark-3.2.4-bin-hadoop3.2/python/pyspark/sql/pandas/conversion.py:371: FutureWarning: iteritems is deprecated and will be removed in a future version. Use .items instead.\n",
      "  for column, series in pdf.iteritems():\n"
     ]
    }
   ],
   "source": [
    "from sqlalchemy import create_engine\n",
    "engine = create_engine('sqlite://', echo=False)\n",
    "tweets1 = spark.createDataFrame(tweets[['created_at',  'full_text',  'retweet_count', 'favorite_count',\n",
    "       'favorited',  'retweeted', 'in_reply_to_screen_name', 'entities']])"
   ]
  },
  {
   "cell_type": "code",
   "execution_count": 199,
   "metadata": {
    "colab": {
     "base_uri": "https://localhost:8080/"
    },
    "id": "hjz_aZG5a3bt",
    "outputId": "bc440980-e4dc-4c07-9ec2-55c9acbade1b"
   },
   "outputs": [
    {
     "data": {
      "text/plain": [
       "Index(['created_at', 'id', 'id_str', 'full_text', 'truncated',\n",
       "       'display_text_range', 'entities', 'metadata', 'source',\n",
       "       'in_reply_to_status_id', 'in_reply_to_status_id_str',\n",
       "       'in_reply_to_user_id', 'in_reply_to_user_id_str',\n",
       "       'in_reply_to_screen_name', 'user', 'geo', 'coordinates', 'place',\n",
       "       'contributors', 'is_quote_status', 'retweet_count', 'favorite_count',\n",
       "       'favorited', 'retweeted', 'possibly_sensitive', 'lang',\n",
       "       'retweeted_status', 'extended_entities', 'quoted_status_id',\n",
       "       'quoted_status_id_str', 'quoted_status'],\n",
       "      dtype='object')"
      ]
     },
     "execution_count": 199,
     "metadata": {},
     "output_type": "execute_result"
    }
   ],
   "source": [
    "tweets.columns"
   ]
  },
  {
   "cell_type": "code",
   "execution_count": 167,
   "metadata": {
    "id": "PW-UQlK-Q0yf"
   },
   "outputs": [],
   "source": [
    "tweets = pd.read_sql('AITwitterData', con  = engine)"
   ]
  },
  {
   "cell_type": "code",
   "execution_count": 280,
   "metadata": {
    "colab": {
     "base_uri": "https://localhost:8080/"
    },
    "id": "nc-aovNxW_-I",
    "outputId": "7ddb88be-b34c-486e-cb84-134d195e6f26"
   },
   "outputs": [
    {
     "name": "stdout",
     "output_type": "stream",
     "text": [
      "+-------------+--------------------+--------+\n",
      "|          key|               value|hashtags|\n",
      "+-------------+--------------------+--------+\n",
      "|         urls|[{expanded_url ->...|       1|\n",
      "|     hashtags|                  []|       1|\n",
      "|user_mentions|                  []|       1|\n",
      "|      symbols|                  []|       1|\n",
      "|         urls|                  []|       1|\n",
      "|     hashtags|                  []|       1|\n",
      "|user_mentions|[{name -> SgtButa...|       1|\n",
      "|      symbols|                  []|       1|\n",
      "|         urls|[{expanded_url ->...|       1|\n",
      "|     hashtags|                  []|       1|\n",
      "|user_mentions|                  []|       1|\n",
      "|      symbols|                  []|       1|\n",
      "|         urls|[{expanded_url ->...|       1|\n",
      "|     hashtags|                  []|       1|\n",
      "|user_mentions|[{name -> Wayne, ...|       1|\n",
      "|      symbols|                  []|       1|\n",
      "|         urls|                  []|       1|\n",
      "|        media|[{display_url -> ...|       1|\n",
      "|     hashtags|[{indices -> [25,...|       1|\n",
      "|user_mentions|                  []|       1|\n",
      "+-------------+--------------------+--------+\n",
      "only showing top 20 rows\n",
      "\n"
     ]
    }
   ],
   "source": [
    "from pyspark.sql.functions import regexp_replace, lower, split\n",
    "df = tweets1\n",
    "# Clean the text column\n",
    "df = df.withColumn(\"tweet\", regexp_replace(\"full_text\", \"[^a-zA-Z\\\\s]\", \"\"))  # Remove special characters\n",
    "df = df.withColumn(\"tweet\", lower(\"tweet\"))  # Convert text to lowercase\n",
    "from pyspark.sql.functions import explode, col\n",
    "hashtags_df = df.select(explode(col(\"entities\")),\n",
    "                        when(col(\"entities\").isNotNull(), 1).otherwise(0).alias(\"hashtags\"))\n",
    "\n",
    "hashtags_df.show()"
   ]
  },
  {
   "cell_type": "code",
   "execution_count": 281,
   "metadata": {
    "colab": {
     "base_uri": "https://localhost:8080/",
     "height": 112
    },
    "id": "eq9PdjUZZZKl",
    "outputId": "cbf14f67-9ce4-477c-f419-151554cfbaf4"
   },
   "outputs": [
    {
     "data": {
      "text/html": [
       "\n",
       "  <div id=\"df-2f4a14db-6565-48f5-a7dc-1799d3847284\">\n",
       "    <div class=\"colab-df-container\">\n",
       "      <div>\n",
       "<style scoped>\n",
       "    .dataframe tbody tr th:only-of-type {\n",
       "        vertical-align: middle;\n",
       "    }\n",
       "\n",
       "    .dataframe tbody tr th {\n",
       "        vertical-align: top;\n",
       "    }\n",
       "\n",
       "    .dataframe thead th {\n",
       "        text-align: right;\n",
       "    }\n",
       "</style>\n",
       "<table border=\"1\" class=\"dataframe\">\n",
       "  <thead>\n",
       "    <tr style=\"text-align: right;\">\n",
       "      <th></th>\n",
       "      <th>created_at</th>\n",
       "      <th>full_text</th>\n",
       "      <th>retweet_count</th>\n",
       "      <th>favorite_count</th>\n",
       "      <th>favorited</th>\n",
       "      <th>retweeted</th>\n",
       "      <th>in_reply_to_screen_name</th>\n",
       "      <th>entities</th>\n",
       "    </tr>\n",
       "  </thead>\n",
       "  <tbody>\n",
       "    <tr>\n",
       "      <th>0</th>\n",
       "      <td>Sun May 14 22:35:03 +0000 2023</td>\n",
       "      <td>The role of artificial intelligence in marketi...</td>\n",
       "      <td>0</td>\n",
       "      <td>0</td>\n",
       "      <td>False</td>\n",
       "      <td>False</td>\n",
       "      <td>None</td>\n",
       "      <td>{'urls': [{'expanded_url': 'https://bit.ly/3LO...</td>\n",
       "    </tr>\n",
       "    <tr>\n",
       "      <th>1</th>\n",
       "      <td>Sun May 14 22:35:03 +0000 2023</td>\n",
       "      <td>@SgtButane @lenphil29 Yes, but Artificial Inte...</td>\n",
       "      <td>0</td>\n",
       "      <td>0</td>\n",
       "      <td>False</td>\n",
       "      <td>False</td>\n",
       "      <td>SgtButane</td>\n",
       "      <td>{'urls': [], 'hashtags': [], 'user_mentions': ...</td>\n",
       "    </tr>\n",
       "  </tbody>\n",
       "</table>\n",
       "</div>\n",
       "      <button class=\"colab-df-convert\" onclick=\"convertToInteractive('df-2f4a14db-6565-48f5-a7dc-1799d3847284')\"\n",
       "              title=\"Convert this dataframe to an interactive table.\"\n",
       "              style=\"display:none;\">\n",
       "        \n",
       "  <svg xmlns=\"http://www.w3.org/2000/svg\" height=\"24px\"viewBox=\"0 0 24 24\"\n",
       "       width=\"24px\">\n",
       "    <path d=\"M0 0h24v24H0V0z\" fill=\"none\"/>\n",
       "    <path d=\"M18.56 5.44l.94 2.06.94-2.06 2.06-.94-2.06-.94-.94-2.06-.94 2.06-2.06.94zm-11 1L8.5 8.5l.94-2.06 2.06-.94-2.06-.94L8.5 2.5l-.94 2.06-2.06.94zm10 10l.94 2.06.94-2.06 2.06-.94-2.06-.94-.94-2.06-.94 2.06-2.06.94z\"/><path d=\"M17.41 7.96l-1.37-1.37c-.4-.4-.92-.59-1.43-.59-.52 0-1.04.2-1.43.59L10.3 9.45l-7.72 7.72c-.78.78-.78 2.05 0 2.83L4 21.41c.39.39.9.59 1.41.59.51 0 1.02-.2 1.41-.59l7.78-7.78 2.81-2.81c.8-.78.8-2.07 0-2.86zM5.41 20L4 18.59l7.72-7.72 1.47 1.35L5.41 20z\"/>\n",
       "  </svg>\n",
       "      </button>\n",
       "      \n",
       "  <style>\n",
       "    .colab-df-container {\n",
       "      display:flex;\n",
       "      flex-wrap:wrap;\n",
       "      gap: 12px;\n",
       "    }\n",
       "\n",
       "    .colab-df-convert {\n",
       "      background-color: #E8F0FE;\n",
       "      border: none;\n",
       "      border-radius: 50%;\n",
       "      cursor: pointer;\n",
       "      display: none;\n",
       "      fill: #1967D2;\n",
       "      height: 32px;\n",
       "      padding: 0 0 0 0;\n",
       "      width: 32px;\n",
       "    }\n",
       "\n",
       "    .colab-df-convert:hover {\n",
       "      background-color: #E2EBFA;\n",
       "      box-shadow: 0px 1px 2px rgba(60, 64, 67, 0.3), 0px 1px 3px 1px rgba(60, 64, 67, 0.15);\n",
       "      fill: #174EA6;\n",
       "    }\n",
       "\n",
       "    [theme=dark] .colab-df-convert {\n",
       "      background-color: #3B4455;\n",
       "      fill: #D2E3FC;\n",
       "    }\n",
       "\n",
       "    [theme=dark] .colab-df-convert:hover {\n",
       "      background-color: #434B5C;\n",
       "      box-shadow: 0px 1px 3px 1px rgba(0, 0, 0, 0.15);\n",
       "      filter: drop-shadow(0px 1px 2px rgba(0, 0, 0, 0.3));\n",
       "      fill: #FFFFFF;\n",
       "    }\n",
       "  </style>\n",
       "\n",
       "      <script>\n",
       "        const buttonEl =\n",
       "          document.querySelector('#df-2f4a14db-6565-48f5-a7dc-1799d3847284 button.colab-df-convert');\n",
       "        buttonEl.style.display =\n",
       "          google.colab.kernel.accessAllowed ? 'block' : 'none';\n",
       "\n",
       "        async function convertToInteractive(key) {\n",
       "          const element = document.querySelector('#df-2f4a14db-6565-48f5-a7dc-1799d3847284');\n",
       "          const dataTable =\n",
       "            await google.colab.kernel.invokeFunction('convertToInteractive',\n",
       "                                                     [key], {});\n",
       "          if (!dataTable) return;\n",
       "\n",
       "          const docLinkHtml = 'Like what you see? Visit the ' +\n",
       "            '<a target=\"_blank\" href=https://colab.research.google.com/notebooks/data_table.ipynb>data table notebook</a>'\n",
       "            + ' to learn more about interactive tables.';\n",
       "          element.innerHTML = '';\n",
       "          dataTable['output_type'] = 'display_data';\n",
       "          await google.colab.output.renderOutput(dataTable, element);\n",
       "          const docLink = document.createElement('div');\n",
       "          docLink.innerHTML = docLinkHtml;\n",
       "          element.appendChild(docLink);\n",
       "        }\n",
       "      </script>\n",
       "    </div>\n",
       "  </div>\n",
       "  "
      ],
      "text/plain": [
       "                       created_at  \\\n",
       "0  Sun May 14 22:35:03 +0000 2023   \n",
       "1  Sun May 14 22:35:03 +0000 2023   \n",
       "\n",
       "                                           full_text  retweet_count  \\\n",
       "0  The role of artificial intelligence in marketi...              0   \n",
       "1  @SgtButane @lenphil29 Yes, but Artificial Inte...              0   \n",
       "\n",
       "   favorite_count  favorited  retweeted in_reply_to_screen_name  \\\n",
       "0               0      False      False                    None   \n",
       "1               0      False      False               SgtButane   \n",
       "\n",
       "                                            entities  \n",
       "0  {'urls': [{'expanded_url': 'https://bit.ly/3LO...  \n",
       "1  {'urls': [], 'hashtags': [], 'user_mentions': ...  "
      ]
     },
     "execution_count": 281,
     "metadata": {},
     "output_type": "execute_result"
    }
   ],
   "source": [
    "tweets1.createOrReplaceTempView('users')\n",
    "#check database\n",
    "spark.sql('SELECT * FROM users LIMIT 2').toPandas()"
   ]
  },
  {
   "cell_type": "code",
   "execution_count": 282,
   "metadata": {
    "colab": {
     "base_uri": "https://localhost:8080/"
    },
    "id": "U9ipGafNYRLQ",
    "outputId": "0e9fdd49-fb45-42c4-db59-47d7a96e1c78"
   },
   "outputs": [
    {
     "name": "stdout",
     "output_type": "stream",
     "text": [
      "+-----------------------+--------------+\n",
      "|in_reply_to_screen_name|favorite_count|\n",
      "+-----------------------+--------------+\n",
      "|                   null|            42|\n",
      "|                   null|            37|\n",
      "|                   null|            23|\n",
      "|           PapiRichie12|            22|\n",
      "|                   null|            17|\n",
      "|                   null|            14|\n",
      "|                   null|            13|\n",
      "|                   null|            12|\n",
      "|           BeastofEarth|            11|\n",
      "|          ListingsAlert|            10|\n",
      "|                   null|             9|\n",
      "|                   null|             8|\n",
      "|                   null|             8|\n",
      "|                   null|             8|\n",
      "|                   null|             8|\n",
      "|                   null|             7|\n",
      "|                   null|             7|\n",
      "|                   null|             7|\n",
      "|                   null|             6|\n",
      "|                   null|             6|\n",
      "+-----------------------+--------------+\n",
      "only showing top 20 rows\n",
      "\n"
     ]
    }
   ],
   "source": [
    "query = '''\n",
    "SELECT in_reply_to_screen_name, favorite_count\n",
    "FROM users\n",
    "ORDER BY favorite_count DESC\n",
    "'''\n",
    "spark.sql(query).show()"
   ]
  },
  {
   "cell_type": "markdown",
   "metadata": {
    "id": "dgUpxSLfX_R0"
   },
   "source": [
    "#### Sentiment Analysis"
   ]
  },
  {
   "cell_type": "code",
   "execution_count": 283,
   "metadata": {
    "colab": {
     "base_uri": "https://localhost:8080/"
    },
    "id": "64MgJZBQYBgT",
    "outputId": "091d6e98-265c-40d1-a359-f7505cd5f2e3"
   },
   "outputs": [
    {
     "name": "stdout",
     "output_type": "stream",
     "text": [
      "+--------------------+--------------------+-------------+--------------+---------+---------+-----------------------+--------------------+--------------------+-----------+--------+\n",
      "|          created_at|           full_text|retweet_count|favorite_count|favorited|retweeted|in_reply_to_screen_name|            entities|               tweet|  sentiment|  target|\n",
      "+--------------------+--------------------+-------------+--------------+---------+---------+-----------------------+--------------------+--------------------+-----------+--------+\n",
      "|Sun May 14 22:35:...|The role of artif...|            0|             0|    false|    false|                   null|{urls -> [{expand...|the role of artif...|       -0.6|negative|\n",
      "|Sun May 14 22:35:...|@SgtButane @lenph...|            0|             0|    false|    false|              SgtButane|{urls -> [], hash...|sgtbutane lenphil...|-0.14444445| neutral|\n",
      "|Sun May 14 22:35:...|New Blog Post fro...|            0|             0|    false|    false|                   null|{urls -> [{expand...|new blog post fro...|-0.23181818|negative|\n",
      "|Sun May 14 22:34:...|RT @wkrose7: @Mei...|            1|             0|    false|    false|                   null|{urls -> [{expand...|rt wkrose meidast...|        0.2| neutral|\n",
      "|Sun May 14 22:34:...|Billionaire busin...|            0|             0|    false|    false|                   null|{urls -> [], medi...|billionaire busin...|     0.0375| neutral|\n",
      "|Sun May 14 22:34:...|RT @DineshDSouza:...|          154|             0|    false|    false|                   null|{urls -> [], hash...|rt dineshdsouza w...|       -0.3|negative|\n",
      "|Sun May 14 22:34:...|24. Approve $202k...|            0|             0|    false|    false|        anthonyzarzycki|{urls -> [], hash...| approve k for fo...|       -0.2| neutral|\n",
      "|Sun May 14 22:33:...|RT @abcnews: Whil...|            3|             0|    false|    false|                   null|{urls -> [], hash...|rt abcnews while ...|       -0.6|negative|\n",
      "|Sun May 14 22:33:...|@CaseynoRoy40543 ...|            0|             0|    false|    false|        CaseynoRoy40543|{urls -> [], hash...|caseynoroy sonicm...|-0.25333333|negative|\n",
      "|Sun May 14 22:32:...|Get me a human to...|            0|             1|    false|    false|                   null|{urls -> [{expand...|get me a human to...|        0.0| neutral|\n",
      "|Sun May 14 22:32:...|RT @DineshDSouza:...|          154|             0|    false|    false|                   null|{urls -> [], hash...|rt dineshdsouza w...|       -0.3|negative|\n",
      "|Sun May 14 22:32:...|RT @neiltyson: If...|          689|             0|    false|    false|                   null|{urls -> [], hash...|rt neiltyson if a...| 0.13333334| neutral|\n",
      "|Sun May 14 22:32:...|RT @Rainmaker1973...|          505|             0|    false|    false|                   null|{urls -> [], hash...|rt rainmaker unit...| 0.46818182|positive|\n",
      "|Sun May 14 22:32:...|RT @SuburbanDrone...|           15|             0|    false|    false|                   null|{urls -> [], hash...|rt suburbandrone ...|       -0.3|negative|\n",
      "|Sun May 14 22:32:...|#ArtificialIntell...|            0|             0|    false|    false|                   null|{urls -> [{expand...|artificialintelli...|        0.0| neutral|\n",
      "|Sun May 14 22:31:...|RT @EvaFoxU: Elon...|           34|             0|    false|    false|                   null|{urls -> [], hash...|rt evafoxu elon m...|        0.0| neutral|\n",
      "|Sun May 14 22:31:...|The automated tel...|            0|             0|    false|    false|                   null|{urls -> [{expand...|the automated tel...|      0.125| neutral|\n",
      "|Sun May 14 22:31:...|RT @tackettdc: \"T...|           60|             0|    false|    false|                   null|{urls -> [], hash...|rt tackettdc the ...| 0.10714286| neutral|\n",
      "|Sun May 14 22:31:...|We Asked Artifici...|            0|             0|    false|    false|                   null|{urls -> [{expand...|we asked artifici...|       -0.6|negative|\n",
      "|Sun May 14 22:31:...|A.I ( Artificial ...|            0|             0|    false|    false|               XtraCash|{urls -> [{expand...|ai  artificial in...|       -0.6|negative|\n",
      "+--------------------+--------------------+-------------+--------------+---------+---------+-----------------------+--------------------+--------------------+-----------+--------+\n",
      "only showing top 20 rows\n",
      "\n",
      "CPU times: user 21.1 ms, sys: 2.12 ms, total: 23.2 ms\n",
      "Wall time: 1.42 s\n"
     ]
    }
   ],
   "source": [
    "%%time\n",
    "from pyspark.sql.functions import udf\n",
    "from pyspark.sql.types import FloatType\n",
    "from textblob import TextBlob\n",
    "\n",
    "# Define a sentiment analysis function using TextBlob\n",
    "def get_sentiment(text):\n",
    "    return TextBlob(text).sentiment.polarity\n",
    "\n",
    "# Create a user-defined function (udf) for the sentiment analysis function\n",
    "sentiment_udf = udf(get_sentiment, FloatType())\n",
    "\n",
    "# Apply the sentiment analysis udf to the cleaned text column\n",
    "df = df.withColumn(\"sentiment\", sentiment_udf(df[\"tweet\"]))\n",
    "#map the scores\n",
    "def get_emotion(score):\n",
    "    if score > 0.2:\n",
    "        return \"positive\"\n",
    "    elif score < -0.2:\n",
    "        return \"negative\"\n",
    "    else:\n",
    "        return \"neutral\"\n",
    "# function (udf) for the emotion function\n",
    "emotion_udf = udf(get_emotion, StringType())\n",
    "\n",
    "# Apply the emotion udf to the sentiment column\n",
    "df = df.withColumn(\"target\", emotion_udf(df[\"sentiment\"]))\n",
    "#results\n",
    "df.show()"
   ]
  },
  {
   "cell_type": "markdown",
   "metadata": {
    "id": "ZhrqAEq6hKqT"
   },
   "source": [
    "#### Logistic Regression"
   ]
  },
  {
   "cell_type": "code",
   "execution_count": 284,
   "metadata": {
    "id": "rfA0Tng_e2PB"
   },
   "outputs": [],
   "source": [
    "from pyspark.ml import Pipeline\n",
    "from pyspark.ml.feature import HashingTF, IDF, Tokenizer, StringIndexer, CountVectorizer, NGram, VectorAssembler, ChiSqSelector\n",
    "\n",
    "tokenizer = Tokenizer(inputCol=\"tweet\", outputCol=\"words\")"
   ]
  },
  {
   "cell_type": "code",
   "execution_count": 285,
   "metadata": {
    "id": "ih8KkzoUfieZ"
   },
   "outputs": [],
   "source": [
    "def build_trigrams(inputCol=[\"tweet\",\"target\"], n=3):\n",
    "    \n",
    "    # Create a Tokenizer object to tokenize inputCol and output to words column\n",
    "    tokenizer = [Tokenizer(inputCol=\"tweet\", outputCol=\"words\")]\n",
    "    \n",
    "    # Create a list of NGram objects, with ngrams from 1 to n, and output to {i}_grams column\n",
    "    ngrams = [NGram(n=i, inputCol=\"words\", outputCol=\"{0}_grams\".format(i))\n",
    "        for i in range(1, n + 1)\n",
    "    ]\n",
    "\n",
    "    # Create a list of CountVectorizer objects, with vocabSize 2**14, and output to {i}_tf column\n",
    "    cv = [\n",
    "        CountVectorizer(vocabSize=2**14,inputCol=\"{0}_grams\".format(i),\n",
    "            outputCol=\"{0}_tf\".format(i))\n",
    "        for i in range(1, n + 1)\n",
    "    ]\n",
    "    \n",
    "    # Create a list of IDF objects, and output to {i}_tfidf column\n",
    "    idf = [IDF(inputCol=\"{0}_tf\".format(i), outputCol=\"{0}_tfidf\".format(i), minDocFreq=5) for i in range(1, n + 1)]\n",
    "\n",
    "    # Create a VectorAssembler object to combine {i}_tfidf columns into a single rawFeatures column\n",
    "    assembler = [VectorAssembler(\n",
    "        inputCols=[\"{0}_tfidf\".format(i) for i in range(1, n + 1)],\n",
    "        outputCol=\"rawFeatures\"\n",
    "    )]\n",
    "    \n",
    "    # Create a StringIndexer object to convert target column to numeric label column\n",
    "    label_stringIdx = [StringIndexer(inputCol = \"target\", outputCol = \"label\")]\n",
    "    \n",
    "    # Create a ChiSqSelector object to select top features from rawFeatures column, and output to features column\n",
    "    selector = [ChiSqSelector(numTopFeatures=2**14,featuresCol='rawFeatures', outputCol=\"features\")]\n",
    "    \n",
    "    # Create a LogisticRegression object to fit the model\n",
    "    lr = [LogisticRegression()]\n",
    "    \n",
    "    # Combine all stages into a single Pipeline object and return\n",
    "    return Pipeline(stages=tokenizer + ngrams + cv + idf + assembler + label_stringIdx + selector + lr)\n"
   ]
  },
  {
   "cell_type": "code",
   "execution_count": 286,
   "metadata": {
    "colab": {
     "base_uri": "https://localhost:8080/"
    },
    "id": "5na45nJYe755",
    "outputId": "d854de75-aece-406e-f35e-7b2260b0f6de"
   },
   "outputs": [
    {
     "name": "stdout",
     "output_type": "stream",
     "text": [
      "CPU times: user 209 ms, sys: 26.2 ms, total: 235 ms\n",
      "Wall time: 21.8 s\n"
     ]
    }
   ],
   "source": [
    "%%time\n",
    "#split data to \n",
    "# Split the data into training and test sets\n",
    "train_data, test_data = df.randomSplit([0.8, 0.2], seed=42)\n",
    "model = pipeline.fit(train_data)\n",
    "\n",
    "predictions = model.transform(test_data)\n",
    "from pyspark.ml.evaluation import BinaryClassificationEvaluator\n",
    "\n",
    "predictions = model.transform(test_data)"
   ]
  },
  {
   "cell_type": "code",
   "execution_count": 287,
   "metadata": {
    "colab": {
     "base_uri": "https://localhost:8080/"
    },
    "id": "h6KGHUg3jB0_",
    "outputId": "1af7ce1b-f82d-4a80-cd7c-ab6f8acc390c"
   },
   "outputs": [
    {
     "name": "stdout",
     "output_type": "stream",
     "text": [
      "Accuracy = 0.837989\n"
     ]
    }
   ],
   "source": [
    "from pyspark.ml.evaluation import MulticlassClassificationEvaluator\n",
    "evaluator = MulticlassClassificationEvaluator(labelCol=\"label\", predictionCol=\"prediction\", metricName=\"accuracy\")\n",
    "accuracy = evaluator.evaluate(predictions)\n",
    "print(\"Accuracy = %g\" % (accuracy))"
   ]
  },
  {
   "cell_type": "markdown",
   "metadata": {
    "id": "X4FRKGSYmS9J"
   },
   "source": [
    "#### Dashboard"
   ]
  },
  {
   "cell_type": "code",
   "execution_count": 291,
   "metadata": {
    "colab": {
     "base_uri": "https://localhost:8080/"
    },
    "id": "jKFhwphumXin",
    "outputId": "3bd76358-1b65-4a85-f79a-286866472f01"
   },
   "outputs": [
    {
     "data": {
      "text/plain": [
       "Index(['created_at', 'full_text', 'retweet_count', 'favorite_count',\n",
       "       'favorited', 'retweeted', 'in_reply_to_screen_name', 'entities',\n",
       "       'tweet', 'sentiment', 'target', 'date'],\n",
       "      dtype='object')"
      ]
     },
     "execution_count": 291,
     "metadata": {},
     "output_type": "execute_result"
    }
   ],
   "source": [
    "datax.columns"
   ]
  },
  {
   "cell_type": "code",
   "execution_count": null,
   "metadata": {
    "colab": {
     "base_uri": "https://localhost:8080/",
     "height": 450
    },
    "id": "5ywy4hguj8aS",
    "outputId": "52c5dda4-a2a7-4fd0-cd40-6f603457b2a7"
   },
   "outputs": [],
   "source": [
    "import dash\n",
    "import dash_core_components as dcc\n",
    "import dash_html_components as html\n",
    "import pandas as pd\n",
    "import plotly.express as px\n",
    "datax = df.toPandas()\n",
    "\n",
    "# Calculate summary statistics for Sentiment tab\n",
    "sentiment_summary = datax.groupby(['target']).size().reset_index(name='count')\n",
    "sentiment_pie_chart = px.pie(sentiment_summary, values='count', names='target', hole=.3)\n",
    "\n",
    "# Calculate summary statistics for Data Overview tab\n",
    "data_overview_summary = datax.describe()\n",
    "\n",
    "# Calculate time series for average polarity over time for Data Overview tab\n",
    "datax['created_at'] = pd.to_datetime(datax['created_at'])\n",
    "datax['date'] = datax['created_at'].dt.date\n",
    "avg_polarity_time_series = datax.groupby(['date'])['sentiment'].mean().reset_index()\n",
    "avg_polarity_time_series_chart = px.line(avg_polarity_time_series, x='date', y='sentiment')\n",
    "\n",
    "# Create the Dash app\n",
    "app = dash.Dash(__name__)\n",
    "\n",
    "# Define the app layout\n",
    "app.layout = html.Div([\n",
    "    \n",
    "    # Define the tabs\n",
    "    dcc.Tabs(id='tabs', value='sentiment-tab', children=[\n",
    "        \n",
    "        # Define the Sentiment tab\n",
    "        dcc.Tab(label='Sentiment', value='sentiment-tab', children=[\n",
    "            html.H1('Sentiment Summary'),\n",
    "            dcc.Graph(figure=sentiment_pie_chart)\n",
    "        ]),\n",
    "        \n",
    "        # Define the Data Overview tab\n",
    "        dcc.Tab(label='Data Overview', value='data-overview-tab', children=[\n",
    "            html.H1('Data Overview Summary'),\n",
    "            html.Table([\n",
    "                html.Thead(html.Tr([html.Th(col) for col in data_overview_summary.columns])),\n",
    "                html.Tbody([\n",
    "                    html.Tr([\n",
    "                        html.Td(data_overview_summary.iloc[i][col]) for col in data_overview_summary.columns\n",
    "                    ]) for i in range(len(data_overview_summary))\n",
    "                ])\n",
    "            ]),\n",
    "            html.H1('Average Polarity Over Time'),\n",
    "            dcc.Graph(figure=avg_polarity_time_series_chart)\n",
    "        ])\n",
    "    ])\n",
    "])\n",
    "\n",
    "if __name__ == '__main__':\n",
    "    app.run_server(debug=False, )\n"
   ]
  }
 ],
 "metadata": {
  "colab": {
   "provenance": []
  },
  "kernelspec": {
   "display_name": "Python 3 (ipykernel)",
   "language": "python",
   "name": "python3"
  },
  "language_info": {
   "codemirror_mode": {
    "name": "ipython",
    "version": 3
   },
   "file_extension": ".py",
   "mimetype": "text/x-python",
   "name": "python",
   "nbconvert_exporter": "python",
   "pygments_lexer": "ipython3",
   "version": "3.8.10"
  }
 },
 "nbformat": 4,
 "nbformat_minor": 1
}
